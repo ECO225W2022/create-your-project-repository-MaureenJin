{
 "cells": [
  {
   "cell_type": "code",
   "execution_count": 172,
   "id": "786689e3",
   "metadata": {},
   "outputs": [],
   "source": [
    "import pandas as pd\n",
    "import matplotlib.pyplot as plt"
   ]
  },
  {
   "cell_type": "markdown",
   "id": "9cd8943e",
   "metadata": {},
   "source": [
    "# Project 1: Investigating on status of startups and distribution of startups in the market\n",
    "\n",
    "--How many startups are there for each status? How many startups are there for each sectors? Compare the distribution of each status in different sectors?\n",
    "\n",
    "PART 1:\n",
    "\n",
    "Introduction:\n",
    "\n",
    "As the world's economy grows, the market demand for various goods remain high which tiggers grows of starup firms in different industries. The best way to get started on study the startup market is to investigate on distribution of startup's status and categories. In this project, I'll use these datesets to analyze the distribution of each status of startups in the market and compare the distribution of each status in different categories. The independent variable Xs include STATUS and CATEGORY, and the dependent variable Y is the number of startups. Specifically, the status of startups are closed, acquired, IPO, and operating. The category is a variable that contain 42 categories of the market. With the understanding of market distribution, economists can make further prediction on growing trend of startup firms. \n",
    "\n",
    "There are 11 tables that contain information about characterstics of startup companies, including company type, company news, IPOs, funding rounds and etc, and the data is downloaded from kaggle notebook with the url https://www.kaggle.com/justinas/startup-investments. \n",
    "\n"
   ]
  },
  {
   "cell_type": "code",
   "execution_count": 173,
   "id": "9ac83e5b",
   "metadata": {},
   "outputs": [
    {
     "data": {
      "text/html": [
       "<div>\n",
       "<style scoped>\n",
       "    .dataframe tbody tr th:only-of-type {\n",
       "        vertical-align: middle;\n",
       "    }\n",
       "\n",
       "    .dataframe tbody tr th {\n",
       "        vertical-align: top;\n",
       "    }\n",
       "\n",
       "    .dataframe thead th {\n",
       "        text-align: right;\n",
       "    }\n",
       "</style>\n",
       "<table border=\"1\" class=\"dataframe\">\n",
       "  <thead>\n",
       "    <tr style=\"text-align: right;\">\n",
       "      <th></th>\n",
       "      <th>id</th>\n",
       "      <th>entity_type</th>\n",
       "      <th>entity_id</th>\n",
       "      <th>parent_id</th>\n",
       "      <th>name</th>\n",
       "      <th>normalized_name</th>\n",
       "      <th>permalink</th>\n",
       "      <th>category_code</th>\n",
       "      <th>status</th>\n",
       "      <th>founded_at</th>\n",
       "      <th>...</th>\n",
       "      <th>last_funding_at</th>\n",
       "      <th>funding_rounds</th>\n",
       "      <th>funding_total_usd</th>\n",
       "      <th>first_milestone_at</th>\n",
       "      <th>last_milestone_at</th>\n",
       "      <th>milestones</th>\n",
       "      <th>relationships</th>\n",
       "      <th>created_by</th>\n",
       "      <th>created_at</th>\n",
       "      <th>updated_at</th>\n",
       "    </tr>\n",
       "  </thead>\n",
       "  <tbody>\n",
       "    <tr>\n",
       "      <th>0</th>\n",
       "      <td>c:1</td>\n",
       "      <td>Company</td>\n",
       "      <td>1</td>\n",
       "      <td>NaN</td>\n",
       "      <td>Wetpaint</td>\n",
       "      <td>wetpaint</td>\n",
       "      <td>/company/wetpaint</td>\n",
       "      <td>web</td>\n",
       "      <td>operating</td>\n",
       "      <td>2005-10-17</td>\n",
       "      <td>...</td>\n",
       "      <td>2008-05-19</td>\n",
       "      <td>3.0</td>\n",
       "      <td>39750000.0</td>\n",
       "      <td>2010-09-05</td>\n",
       "      <td>2013-09-18</td>\n",
       "      <td>5.0</td>\n",
       "      <td>17.0</td>\n",
       "      <td>initial-importer</td>\n",
       "      <td>2007-05-25 06:51:27</td>\n",
       "      <td>2013-04-13 03:29:00</td>\n",
       "    </tr>\n",
       "    <tr>\n",
       "      <th>1</th>\n",
       "      <td>c:10</td>\n",
       "      <td>Company</td>\n",
       "      <td>10</td>\n",
       "      <td>NaN</td>\n",
       "      <td>Flektor</td>\n",
       "      <td>flektor</td>\n",
       "      <td>/company/flektor</td>\n",
       "      <td>games_video</td>\n",
       "      <td>acquired</td>\n",
       "      <td>NaN</td>\n",
       "      <td>...</td>\n",
       "      <td>NaN</td>\n",
       "      <td>0.0</td>\n",
       "      <td>0.0</td>\n",
       "      <td>NaN</td>\n",
       "      <td>NaN</td>\n",
       "      <td>0.0</td>\n",
       "      <td>6.0</td>\n",
       "      <td>initial-importer</td>\n",
       "      <td>2007-05-31 21:11:51</td>\n",
       "      <td>2008-05-23 23:23:14</td>\n",
       "    </tr>\n",
       "    <tr>\n",
       "      <th>2</th>\n",
       "      <td>c:100</td>\n",
       "      <td>Company</td>\n",
       "      <td>100</td>\n",
       "      <td>NaN</td>\n",
       "      <td>There</td>\n",
       "      <td>there</td>\n",
       "      <td>/company/there</td>\n",
       "      <td>games_video</td>\n",
       "      <td>acquired</td>\n",
       "      <td>NaN</td>\n",
       "      <td>...</td>\n",
       "      <td>NaN</td>\n",
       "      <td>0.0</td>\n",
       "      <td>0.0</td>\n",
       "      <td>2003-02-01</td>\n",
       "      <td>2011-09-23</td>\n",
       "      <td>4.0</td>\n",
       "      <td>12.0</td>\n",
       "      <td>initial-importer</td>\n",
       "      <td>2007-08-06 23:52:45</td>\n",
       "      <td>2013-11-04 02:09:48</td>\n",
       "    </tr>\n",
       "    <tr>\n",
       "      <th>3</th>\n",
       "      <td>c:10000</td>\n",
       "      <td>Company</td>\n",
       "      <td>10000</td>\n",
       "      <td>NaN</td>\n",
       "      <td>MYWEBBO</td>\n",
       "      <td>mywebbo</td>\n",
       "      <td>/company/mywebbo</td>\n",
       "      <td>network_hosting</td>\n",
       "      <td>operating</td>\n",
       "      <td>2008-07-26</td>\n",
       "      <td>...</td>\n",
       "      <td>NaN</td>\n",
       "      <td>0.0</td>\n",
       "      <td>0.0</td>\n",
       "      <td>NaN</td>\n",
       "      <td>NaN</td>\n",
       "      <td>0.0</td>\n",
       "      <td>0.0</td>\n",
       "      <td>NaN</td>\n",
       "      <td>2008-08-24 16:51:57</td>\n",
       "      <td>2008-09-06 14:19:18</td>\n",
       "    </tr>\n",
       "    <tr>\n",
       "      <th>4</th>\n",
       "      <td>c:10001</td>\n",
       "      <td>Company</td>\n",
       "      <td>10001</td>\n",
       "      <td>NaN</td>\n",
       "      <td>THE Movie Streamer</td>\n",
       "      <td>the movie streamer</td>\n",
       "      <td>/company/the-movie-streamer</td>\n",
       "      <td>games_video</td>\n",
       "      <td>operating</td>\n",
       "      <td>2008-07-26</td>\n",
       "      <td>...</td>\n",
       "      <td>NaN</td>\n",
       "      <td>0.0</td>\n",
       "      <td>0.0</td>\n",
       "      <td>NaN</td>\n",
       "      <td>NaN</td>\n",
       "      <td>0.0</td>\n",
       "      <td>0.0</td>\n",
       "      <td>NaN</td>\n",
       "      <td>2008-08-24 17:10:34</td>\n",
       "      <td>2008-09-06 14:19:18</td>\n",
       "    </tr>\n",
       "    <tr>\n",
       "      <th>...</th>\n",
       "      <td>...</td>\n",
       "      <td>...</td>\n",
       "      <td>...</td>\n",
       "      <td>...</td>\n",
       "      <td>...</td>\n",
       "      <td>...</td>\n",
       "      <td>...</td>\n",
       "      <td>...</td>\n",
       "      <td>...</td>\n",
       "      <td>...</td>\n",
       "      <td>...</td>\n",
       "      <td>...</td>\n",
       "      <td>...</td>\n",
       "      <td>...</td>\n",
       "      <td>...</td>\n",
       "      <td>...</td>\n",
       "      <td>...</td>\n",
       "      <td>...</td>\n",
       "      <td>...</td>\n",
       "      <td>...</td>\n",
       "      <td>...</td>\n",
       "    </tr>\n",
       "    <tr>\n",
       "      <th>9396</th>\n",
       "      <td>c:14399</td>\n",
       "      <td>Company</td>\n",
       "      <td>14399</td>\n",
       "      <td>NaN</td>\n",
       "      <td>The Bid Zone</td>\n",
       "      <td>the bid zone</td>\n",
       "      <td>/company/the-bid-zone</td>\n",
       "      <td>web</td>\n",
       "      <td>operating</td>\n",
       "      <td>2008-10-23</td>\n",
       "      <td>...</td>\n",
       "      <td>NaN</td>\n",
       "      <td>0.0</td>\n",
       "      <td>0.0</td>\n",
       "      <td>NaN</td>\n",
       "      <td>NaN</td>\n",
       "      <td>0.0</td>\n",
       "      <td>3.0</td>\n",
       "      <td>NaN</td>\n",
       "      <td>2008-12-01 02:51:16</td>\n",
       "      <td>2013-03-29 08:41:29</td>\n",
       "    </tr>\n",
       "    <tr>\n",
       "      <th>9397</th>\n",
       "      <td>c:143990</td>\n",
       "      <td>Company</td>\n",
       "      <td>143990</td>\n",
       "      <td>NaN</td>\n",
       "      <td>Spoolios</td>\n",
       "      <td>spoolios</td>\n",
       "      <td>/company/spoolios</td>\n",
       "      <td>games_video</td>\n",
       "      <td>operating</td>\n",
       "      <td>2010-01-01</td>\n",
       "      <td>...</td>\n",
       "      <td>NaN</td>\n",
       "      <td>0.0</td>\n",
       "      <td>0.0</td>\n",
       "      <td>NaN</td>\n",
       "      <td>NaN</td>\n",
       "      <td>0.0</td>\n",
       "      <td>0.0</td>\n",
       "      <td>spoolios</td>\n",
       "      <td>2011-12-08 06:28:51</td>\n",
       "      <td>2011-12-15 19:51:58</td>\n",
       "    </tr>\n",
       "    <tr>\n",
       "      <th>9398</th>\n",
       "      <td>c:143991</td>\n",
       "      <td>Company</td>\n",
       "      <td>143991</td>\n",
       "      <td>NaN</td>\n",
       "      <td>Investorsforumindia</td>\n",
       "      <td>investorsforumindia</td>\n",
       "      <td>/company/investorsforumindia</td>\n",
       "      <td>other</td>\n",
       "      <td>operating</td>\n",
       "      <td>2011-01-10</td>\n",
       "      <td>...</td>\n",
       "      <td>NaN</td>\n",
       "      <td>0.0</td>\n",
       "      <td>0.0</td>\n",
       "      <td>NaN</td>\n",
       "      <td>NaN</td>\n",
       "      <td>0.0</td>\n",
       "      <td>0.0</td>\n",
       "      <td>investorforumindia</td>\n",
       "      <td>2011-12-08 06:37:45</td>\n",
       "      <td>2011-12-15 19:53:05</td>\n",
       "    </tr>\n",
       "    <tr>\n",
       "      <th>9399</th>\n",
       "      <td>c:143992</td>\n",
       "      <td>Company</td>\n",
       "      <td>143992</td>\n",
       "      <td>NaN</td>\n",
       "      <td>Nichia</td>\n",
       "      <td>nichia</td>\n",
       "      <td>/company/nichia</td>\n",
       "      <td>NaN</td>\n",
       "      <td>operating</td>\n",
       "      <td>NaN</td>\n",
       "      <td>...</td>\n",
       "      <td>NaN</td>\n",
       "      <td>0.0</td>\n",
       "      <td>0.0</td>\n",
       "      <td>NaN</td>\n",
       "      <td>NaN</td>\n",
       "      <td>0.0</td>\n",
       "      <td>0.0</td>\n",
       "      <td>NaN</td>\n",
       "      <td>2011-12-08 06:40:16</td>\n",
       "      <td>2011-12-15 19:53:32</td>\n",
       "    </tr>\n",
       "    <tr>\n",
       "      <th>9400</th>\n",
       "      <td>c:143993</td>\n",
       "      <td>Company</td>\n",
       "      <td>143993</td>\n",
       "      <td>NaN</td>\n",
       "      <td>FKK Corporation</td>\n",
       "      <td>fkk</td>\n",
       "      <td>/company/fkk-corporation</td>\n",
       "      <td>hardware</td>\n",
       "      <td>operating</td>\n",
       "      <td>NaN</td>\n",
       "      <td>...</td>\n",
       "      <td>NaN</td>\n",
       "      <td>NaN</td>\n",
       "      <td>NaN</td>\n",
       "      <td>NaN</td>\n",
       "      <td>NaN</td>\n",
       "      <td>NaN</td>\n",
       "      <td>NaN</td>\n",
       "      <td>NaN</td>\n",
       "      <td>NaN</td>\n",
       "      <td>NaN</td>\n",
       "    </tr>\n",
       "  </tbody>\n",
       "</table>\n",
       "<p>9401 rows × 40 columns</p>\n",
       "</div>"
      ],
      "text/plain": [
       "            id entity_type  entity_id  parent_id                 name  \\\n",
       "0          c:1     Company          1        NaN             Wetpaint   \n",
       "1         c:10     Company         10        NaN              Flektor   \n",
       "2        c:100     Company        100        NaN                There   \n",
       "3      c:10000     Company      10000        NaN              MYWEBBO   \n",
       "4      c:10001     Company      10001        NaN   THE Movie Streamer   \n",
       "...        ...         ...        ...        ...                  ...   \n",
       "9396   c:14399     Company      14399        NaN         The Bid Zone   \n",
       "9397  c:143990     Company     143990        NaN             Spoolios   \n",
       "9398  c:143991     Company     143991        NaN  Investorsforumindia   \n",
       "9399  c:143992     Company     143992        NaN               Nichia   \n",
       "9400  c:143993     Company     143993        NaN      FKK Corporation   \n",
       "\n",
       "          normalized_name                     permalink    category_code  \\\n",
       "0                wetpaint             /company/wetpaint              web   \n",
       "1                 flektor              /company/flektor      games_video   \n",
       "2                   there                /company/there      games_video   \n",
       "3                 mywebbo              /company/mywebbo  network_hosting   \n",
       "4      the movie streamer   /company/the-movie-streamer      games_video   \n",
       "...                   ...                           ...              ...   \n",
       "9396         the bid zone         /company/the-bid-zone              web   \n",
       "9397             spoolios             /company/spoolios      games_video   \n",
       "9398  investorsforumindia  /company/investorsforumindia            other   \n",
       "9399               nichia               /company/nichia              NaN   \n",
       "9400                  fkk      /company/fkk-corporation         hardware   \n",
       "\n",
       "         status  founded_at  ... last_funding_at funding_rounds  \\\n",
       "0     operating  2005-10-17  ...      2008-05-19            3.0   \n",
       "1      acquired         NaN  ...             NaN            0.0   \n",
       "2      acquired         NaN  ...             NaN            0.0   \n",
       "3     operating  2008-07-26  ...             NaN            0.0   \n",
       "4     operating  2008-07-26  ...             NaN            0.0   \n",
       "...         ...         ...  ...             ...            ...   \n",
       "9396  operating  2008-10-23  ...             NaN            0.0   \n",
       "9397  operating  2010-01-01  ...             NaN            0.0   \n",
       "9398  operating  2011-01-10  ...             NaN            0.0   \n",
       "9399  operating         NaN  ...             NaN            0.0   \n",
       "9400  operating         NaN  ...             NaN            NaN   \n",
       "\n",
       "     funding_total_usd first_milestone_at last_milestone_at  milestones  \\\n",
       "0           39750000.0         2010-09-05        2013-09-18         5.0   \n",
       "1                  0.0                NaN               NaN         0.0   \n",
       "2                  0.0         2003-02-01        2011-09-23         4.0   \n",
       "3                  0.0                NaN               NaN         0.0   \n",
       "4                  0.0                NaN               NaN         0.0   \n",
       "...                ...                ...               ...         ...   \n",
       "9396               0.0                NaN               NaN         0.0   \n",
       "9397               0.0                NaN               NaN         0.0   \n",
       "9398               0.0                NaN               NaN         0.0   \n",
       "9399               0.0                NaN               NaN         0.0   \n",
       "9400               NaN                NaN               NaN         NaN   \n",
       "\n",
       "      relationships          created_by           created_at  \\\n",
       "0              17.0    initial-importer  2007-05-25 06:51:27   \n",
       "1               6.0    initial-importer  2007-05-31 21:11:51   \n",
       "2              12.0    initial-importer  2007-08-06 23:52:45   \n",
       "3               0.0                 NaN  2008-08-24 16:51:57   \n",
       "4               0.0                 NaN  2008-08-24 17:10:34   \n",
       "...             ...                 ...                  ...   \n",
       "9396            3.0                 NaN  2008-12-01 02:51:16   \n",
       "9397            0.0            spoolios  2011-12-08 06:28:51   \n",
       "9398            0.0  investorforumindia  2011-12-08 06:37:45   \n",
       "9399            0.0                 NaN  2011-12-08 06:40:16   \n",
       "9400            NaN                 NaN                  NaN   \n",
       "\n",
       "               updated_at  \n",
       "0     2013-04-13 03:29:00  \n",
       "1     2008-05-23 23:23:14  \n",
       "2     2013-11-04 02:09:48  \n",
       "3     2008-09-06 14:19:18  \n",
       "4     2008-09-06 14:19:18  \n",
       "...                   ...  \n",
       "9396  2013-03-29 08:41:29  \n",
       "9397  2011-12-15 19:51:58  \n",
       "9398  2011-12-15 19:53:05  \n",
       "9399  2011-12-15 19:53:32  \n",
       "9400                  NaN  \n",
       "\n",
       "[9401 rows x 40 columns]"
      ]
     },
     "execution_count": 173,
     "metadata": {},
     "output_type": "execute_result"
    }
   ],
   "source": [
    "# PART 2: Read Statistics###\n",
    "\n",
    "df = pd.read_csv(\"objects.csv\")\n",
    "pd.DataFrame(df)\n"
   ]
  },
  {
   "cell_type": "markdown",
   "id": "46e33930",
   "metadata": {},
   "source": [
    "This step reads the dataset from \"objects.csv\" and saved it as a dataframe called \"df\". By reading the data and converting the dataset into a dataframe, it's easier to extract and analze the data later in the project."
   ]
  },
  {
   "cell_type": "code",
   "execution_count": 174,
   "id": "18e07548",
   "metadata": {},
   "outputs": [
    {
     "data": {
      "text/plain": [
       "operating    8338\n",
       "acquired      755\n",
       "closed        242\n",
       "ipo            66\n",
       "Name: status, dtype: int64"
      ]
     },
     "execution_count": 174,
     "metadata": {},
     "output_type": "execute_result"
    }
   ],
   "source": [
    "# PART 3: Summary of Statistics###\n",
    "status_count = df['status'].value_counts()\n",
    "status_count"
   ]
  },
  {
   "cell_type": "markdown",
   "id": "5c776d5e",
   "metadata": {},
   "source": [
    "This creates a table which counts the number of startups in each status. By doing so, we can clearly see how many startups are there for each status."
   ]
  },
  {
   "cell_type": "code",
   "execution_count": 175,
   "id": "1d20e060",
   "metadata": {},
   "outputs": [
    {
     "data": {
      "text/plain": [
       "web                 1370\n",
       "software            1187\n",
       "other                689\n",
       "ecommerce            564\n",
       "advertising          479\n",
       "games_video          432\n",
       "mobile               421\n",
       "consulting           334\n",
       "enterprise           275\n",
       "public_relations     245\n",
       "network_hosting      217\n",
       "hardware             141\n",
       "search               140\n",
       "biotech              111\n",
       "education             97\n",
       "cleantech             78\n",
       "security              74\n",
       "finance               44\n",
       "analytics             43\n",
       "social                37\n",
       "medical               36\n",
       "legal                 32\n",
       "health                27\n",
       "travel                20\n",
       "news                  18\n",
       "fashion               16\n",
       "messaging             16\n",
       "transportation        16\n",
       "semiconductor         14\n",
       "music                 14\n",
       "sports                13\n",
       "hospitality           12\n",
       "photo_video           11\n",
       "nonprofit              9\n",
       "manufacturing          9\n",
       "real_estate            8\n",
       "automotive             5\n",
       "design                 3\n",
       "government             1\n",
       "local                  1\n",
       "nanotech               1\n",
       "pets                   1\n",
       "Name: category_code, dtype: int64"
      ]
     },
     "execution_count": 175,
     "metadata": {},
     "output_type": "execute_result"
    }
   ],
   "source": [
    "category_count = df['category_code'].value_counts()\n",
    "category_count "
   ]
  },
  {
   "cell_type": "markdown",
   "id": "59004c0a",
   "metadata": {},
   "source": [
    "\n",
    "By creating a table that counts the numbr of startups in each category, we can clearly see how many firms are there for each category.\n"
   ]
  },
  {
   "cell_type": "code",
   "execution_count": 176,
   "id": "9db35aa4",
   "metadata": {},
   "outputs": [
    {
     "data": {
      "text/plain": [
       "<AxesSubplot:title={'center':'number of startups in each status'}, xlabel='status', ylabel='number of firms'>"
      ]
     },
     "execution_count": 176,
     "metadata": {},
     "output_type": "execute_result"
    },
    {
     "data": {
      "image/png": "[encoded data removed]",
      "text/plain": [
       "<Figure size 432x288 with 1 Axes>"
      ]
     },
     "metadata": {
      "needs_background": "light"
     },
     "output_type": "display_data"
    }
   ],
   "source": [
    "### PART 4: Plot the graph of variables###\n",
    "\n",
    "status_count.plot(kind='bar', \n",
    "                  xlabel = \"status\",\n",
    "                  ylabel = \"number of firms\",\n",
    "                  title =\"number of startups in each status\")"
   ]
  },
  {
   "cell_type": "markdown",
   "id": "488046c0",
   "metadata": {},
   "source": [
    "The graph above shows the number of startups in each status, with firm status on the x axis and the number of startups on the y axis. The graph version enables us to compare between each status. We can clearly see the firms under \"operating\" status are the most and firms under \"ipo\" status are the least."
   ]
  },
  {
   "cell_type": "code",
   "execution_count": 177,
   "id": "588e1cae",
   "metadata": {},
   "outputs": [
    {
     "data": {
      "text/plain": [
       "<AxesSubplot:title={'center':'number of startups in each category'}, xlabel='category', ylabel='number of firms'>"
      ]
     },
     "execution_count": 177,
     "metadata": {},
     "output_type": "execute_result"
    },
    {
     "data": {
      "image/png": "[encoded data removed]",
      "text/plain": [
       "<Figure size 432x288 with 1 Axes>"
      ]
     },
     "metadata": {
      "needs_background": "light"
     },
     "output_type": "display_data"
    }
   ],
   "source": [
    "category_count.plot(kind='bar',\n",
    "                    xlabel = \"category\",\n",
    "                    ylabel = \"number of firms\",\n",
    "                    title = \"number of startups in each category\",)\n"
   ]
  },
  {
   "cell_type": "markdown",
   "id": "1f5f708a",
   "metadata": {},
   "source": [
    "The barplot above shows number of firms in each catogory so that we can compare which category has more startup firms."
   ]
  },
  {
   "cell_type": "markdown",
   "id": "73806a89",
   "metadata": {},
   "source": [
    "To better understand the market distribution of each status, it's better to convert the number of firms into market percentage. The pie chart displays distribution of each status in the market with percentage points straight forward. We can see that firms under \"operating\" status are dominant in the market, with 88.69%, and there are only 0.70% of firms with status \"IPO\". The chart enables us to see the relation between firm status and market in a clear way.\n"
   ]
  },
  {
   "cell_type": "code",
   "execution_count": 178,
   "id": "a03f7380",
   "metadata": {},
   "outputs": [
    {
     "data": {
      "text/plain": [
       "operating    88.692692\n",
       "acquired      8.031061\n",
       "closed        2.574194\n",
       "ipo           0.702053\n",
       "Name: status, dtype: float64"
      ]
     },
     "execution_count": 178,
     "metadata": {},
     "output_type": "execute_result"
    }
   ],
   "source": [
    "percentage_status=status_count/status_count.sum()*100\n",
    "percentage_status"
   ]
  },
  {
   "cell_type": "code",
   "execution_count": 179,
   "id": "aa83e191",
   "metadata": {},
   "outputs": [
    {
     "data": {
      "text/plain": [
       "<AxesSubplot:title={'center':'status distribution in the market'}, ylabel='status'>"
      ]
     },
     "execution_count": 179,
     "metadata": {},
     "output_type": "execute_result"
    },
    {
     "data": {
      "image/png": "[encoded data removed]",
      "text/plain": [
       "<Figure size 432x288 with 1 Axes>"
      ]
     },
     "metadata": {},
     "output_type": "display_data"
    }
   ],
   "source": [
    "percentage_status.plot(kind='pie',\n",
    "                       autopct='%0.2f%%',\n",
    "                       title=\"status distribution in the market\",\n",
    "                       radius = 1,)"
   ]
  },
  {
   "cell_type": "markdown",
   "id": "fbd74e8c",
   "metadata": {},
   "source": [
    "\n",
    "\n",
    "\n",
    "The following table and graphs show the percentage of each category of startups, the reason why I did not choose a pie chart to display the percentage is that there are quite a lot categories which makes the pie chart messy. I use barplot instead that we can also compare the market distribution of each category. We can see that Web and Software have the highest propotion in the market, and we can use this informationto predict future market.\n"
   ]
  },
  {
   "cell_type": "code",
   "execution_count": 180,
   "id": "fb81691c",
   "metadata": {},
   "outputs": [
    {
     "data": {
      "text/plain": [
       "web                 18.867925\n",
       "software            16.347611\n",
       "other                9.489051\n",
       "ecommerce            7.767525\n",
       "advertising          6.596887\n",
       "games_video          5.949594\n",
       "mobile               5.798099\n",
       "consulting           4.599917\n",
       "enterprise           3.787357\n",
       "public_relations     3.374191\n",
       "network_hosting      2.988569\n",
       "hardware             1.941881\n",
       "search               1.928109\n",
       "biotech              1.528715\n",
       "education            1.335904\n",
       "cleantech            1.074232\n",
       "security             1.019143\n",
       "finance              0.605977\n",
       "analytics            0.592205\n",
       "social               0.509572\n",
       "medical              0.495799\n",
       "legal                0.440711\n",
       "health               0.371850\n",
       "travel               0.275444\n",
       "news                 0.247900\n",
       "fashion              0.220355\n",
       "messaging            0.220355\n",
       "transportation       0.220355\n",
       "semiconductor        0.192811\n",
       "music                0.192811\n",
       "sports               0.179039\n",
       "hospitality          0.165266\n",
       "photo_video          0.151494\n",
       "nonprofit            0.123950\n",
       "manufacturing        0.123950\n",
       "real_estate          0.110178\n",
       "automotive           0.068861\n",
       "design               0.041317\n",
       "government           0.013772\n",
       "local                0.013772\n",
       "nanotech             0.013772\n",
       "pets                 0.013772\n",
       "Name: category_code, dtype: float64"
      ]
     },
     "execution_count": 180,
     "metadata": {},
     "output_type": "execute_result"
    }
   ],
   "source": [
    "percentage_category = category_count/category_count.sum()*100\n",
    "percentage_category"
   ]
  },
  {
   "cell_type": "code",
   "execution_count": 181,
   "id": "01512e34",
   "metadata": {},
   "outputs": [
    {
     "data": {
      "text/plain": [
       "<AxesSubplot:>"
      ]
     },
     "execution_count": 181,
     "metadata": {},
     "output_type": "execute_result"
    },
    {
     "data": {
      "image/png": "[encoded data removed]",
      "text/plain": [
       "<Figure size 720x216 with 1 Axes>"
      ]
     },
     "metadata": {
      "needs_background": "light"
     },
     "output_type": "display_data"
    }
   ],
   "source": [
    "percentage_category.plot(kind='bar',\n",
    "                         figsize = (10,3),)\n"
   ]
  },
  {
   "cell_type": "markdown",
   "id": "a6936d46",
   "metadata": {},
   "source": [
    "### Summary and Future Plan\n",
    "In this report, I get started on the dataset and mainly investigate on \"objects.csv\" to explore startups market distribution of status and category. In future analysis, I plan to investigate on more variables including entrepreneurs' personal characterstics, founding rounds of firms, location, etc. to better understand the market distribution of starup firms in multiple persectives and to explore how does each factor influence startup firms' investment."
   ]
  }
 ],
 "metadata": {
  "kernelspec": {
   "display_name": "Python 3 (ipykernel)",
   "language": "python",
   "name": "python3"
  },
  "language_info": {
   "codemirror_mode": {
    "name": "ipython",
    "version": 3
   },
   "file_extension": ".py",
   "mimetype": "text/x-python",
   "name": "python",
   "nbconvert_exporter": "python",
   "pygments_lexer": "ipython3",
   "version": "3.9.7"
  }
 },
 "nbformat": 4,
 "nbformat_minor": 5
}
