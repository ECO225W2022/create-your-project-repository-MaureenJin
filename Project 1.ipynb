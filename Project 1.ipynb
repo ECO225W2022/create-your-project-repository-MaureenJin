{
 "cells": [
  {
   "cell_type": "code",
   "execution_count": 8,
   "id": "786689e3",
   "metadata": {},
   "outputs": [],
   "source": [
    "import pandas as pd"
   ]
  },
  {
   "cell_type": "markdown",
   "id": "9e27f729",
   "metadata": {},
   "source": [
    "Investigating on status of startups and distribution of startups in different market sectors.\n",
    "--How many startups are there for each status? How many startups are there for each sectors? Compare the distribution of each status in different sectors?\n",
    "\n",
    "Introduction:\n",
    "As the world's economy grows, the market demand for various goods remain high which tiggers grows of starup firms in different industries. The best way to get started on study the startup market is to investigate on distribution of startup's status and categories. In this project, I'll use these datesets to analyze the distribution of each status of startups in the market and compare the distribution of each status in different categories. The independent variable Xs include startup's status and categories, and the dependent variable Y is the number of startups. With the understanding of market distribution, economists can make further prediction on growing trend of startup firms. \n",
    "\n",
    "There are 11 tables that contain information about characterstics of startup companies, including company type, company news, IPOs, funding rounds and etc, and the data is downloaded from kaggle notebook with the url https://www.kaggle.com/justinas/startup-investments. \n",
    "\n"
   ]
  },
  {
   "cell_type": "code",
   "execution_count": 14,
   "id": "198b2412",
   "metadata": {},
   "outputs": [],
   "source": [
    "df = pd.read_csv(\"investments.csv\")\n",
    "df1 = pd.DataFrame(df)\n"
   ]
  },
  {
   "cell_type": "code",
   "execution_count": null,
   "id": "ffa2d6bf",
   "metadata": {},
   "outputs": [],
   "source": []
  },
  {
   "cell_type": "code",
   "execution_count": null,
   "id": "db47f1e4",
   "metadata": {},
   "outputs": [],
   "source": []
  }
 ],
 "metadata": {
  "kernelspec": {
   "display_name": "Python 3 (ipykernel)",
   "language": "python",
   "name": "python3"
  },
  "language_info": {
   "codemirror_mode": {
    "name": "ipython",
    "version": 3
   },
   "file_extension": ".py",
   "mimetype": "text/x-python",
   "name": "python",
   "nbconvert_exporter": "python",
   "pygments_lexer": "ipython3",
   "version": "3.9.7"
  }
 },
 "nbformat": 4,
 "nbformat_minor": 5
}
